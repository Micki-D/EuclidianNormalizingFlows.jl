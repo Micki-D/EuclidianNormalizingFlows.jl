{
 "cells": [
  {
   "cell_type": "code",
   "execution_count": 1,
   "id": "a6d03d7e",
   "metadata": {},
   "outputs": [
    {
     "name": "stderr",
     "output_type": "stream",
     "text": [
      "┌ Info: Precompiling EuclidianNormalizingFlows [eb90128f-7c94-4cd6-9130-4bb7c9abac9d]\n",
      "└ @ Base loading.jl:1664\n"
     ]
    }
   ],
   "source": [
    "using Revise \n",
    "using EuclidianNormalizingFlows\n",
    "\n",
    "using BAT\n",
    "using Distributions\n",
    "using Optimisers\n",
    "using FunctionChains\n",
    "using ArraysOfArrays\n",
    "using LinearAlgebra\n",
    "using ValueShapes\n",
    "using StatsBase\n",
    "using FileIO\n",
    "using JLD2\n",
    "using CUDA\n",
    "using CUDAKernels\n",
    "using KernelAbstractions\n",
    "using Flux\n",
    "using PyPlot"
   ]
  },
  {
   "cell_type": "code",
   "execution_count": 2,
   "id": "7b25c1c8",
   "metadata": {},
   "outputs": [
    {
     "name": "stderr",
     "output_type": "stream",
     "text": [
      "┌ Info: Initializing new RNG of type Random123.Philox4x{UInt64, 10}\n",
      "└ @ BAT /home/iwsatlas1/mdud/ACS/BAT.jl/src/algotypes/bat_default.jl:44\n",
      "┌ Info: Initializing new RNG of type Random123.Philox4x{UInt64, 10}\n",
      "└ @ BAT /home/iwsatlas1/mdud/ACS/BAT.jl/src/algotypes/bat_default.jl:44\n"
     ]
    }
   ],
   "source": [
    "n_smpls = 10^5\n",
    "\n",
    "n_dims = 2\n",
    "n_modes = 10\n",
    "\n",
    "mvns = [MvNormal(10 .*rand(n_dims), 0.5 * abs(randn(1)[1]) .* I(n_dims)) for i in 1:n_modes]\n",
    "d = MixtureModel(mvns)\n",
    "importance_density = MvNormal(zeros(n_dims), I)\n",
    "wanna_use_GPU = true\n",
    "_device = wanna_use_GPU ? KernelAbstractions.get_device(CUDA.rand(10)) : KernelAbstractions.get_device(rand(10))\n",
    "samples = bat_sample(d, BAT.IIDSampling(nsamples=n_smpls)).result;\n",
    "smpls_flat = gpu(flatview(unshaped.(samples.v)));\n",
    "samples_nested = wanna_use_GPU ? nestedview(gpu(smpls_flat)) : nestedview(smpls_flat);\n",
    "\n",
    "proposal_density = convert(BAT.AbstractMeasureOrDensity, BAT.StandardMvNormal(n_dims))   \n",
    "proposal_samples = bat_sample(proposal_density, \n",
    "                    BAT.IIDSampling(nsamples= n_smpls)).result;"
   ]
  },
  {
   "cell_type": "code",
   "execution_count": 4,
   "id": "55f1754c",
   "metadata": {},
   "outputs": [
    {
     "name": "stdout",
     "output_type": "stream",
     "text": [
      "+++ Starting round 1\n"
     ]
    },
    {
     "ename": "LoadError",
     "evalue": "TaskFailedException\n\n\u001b[91m    nested task error: \u001b[39mInterruptException:\n    Stacktrace:\n     [1] \u001b[0m\u001b[1mwait\u001b[22m\n    \u001b[90m   @ \u001b[39m\u001b[90m./\u001b[39m\u001b[90m\u001b[4masyncevent.jl:155\u001b[24m\u001b[39m\u001b[90m [inlined]\u001b[39m\n     [2] \u001b[0m\u001b[1mmacro expansion\u001b[22m\n    \u001b[90m   @ \u001b[39m\u001b[90m/user/.julia/packages/CUDAKernels/YWLqR/src/\u001b[39m\u001b[90m\u001b[4mCUDAKernels.jl:150\u001b[24m\u001b[39m\u001b[90m [inlined]\u001b[39m\n     [3] \u001b[0m\u001b[1m(::CUDAKernels.var\"#8#11\"{CUDAKernels.CudaEvent, Timer, CuDevice, Base.Event})\u001b[22m\u001b[0m\u001b[1m(\u001b[22m\u001b[0m\u001b[1m)\u001b[22m\n    \u001b[90m   @ \u001b[39m\u001b[35mCUDAKernels\u001b[39m \u001b[90m./\u001b[39m\u001b[90m\u001b[4mthreadingconstructs.jl:258\u001b[24m\u001b[39m",
     "output_type": "error",
     "traceback": [
      "TaskFailedException\n\n\u001b[91m    nested task error: \u001b[39mInterruptException:\n    Stacktrace:\n     [1] \u001b[0m\u001b[1mwait\u001b[22m\n    \u001b[90m   @ \u001b[39m\u001b[90m./\u001b[39m\u001b[90m\u001b[4masyncevent.jl:155\u001b[24m\u001b[39m\u001b[90m [inlined]\u001b[39m\n     [2] \u001b[0m\u001b[1mmacro expansion\u001b[22m\n    \u001b[90m   @ \u001b[39m\u001b[90m/user/.julia/packages/CUDAKernels/YWLqR/src/\u001b[39m\u001b[90m\u001b[4mCUDAKernels.jl:150\u001b[24m\u001b[39m\u001b[90m [inlined]\u001b[39m\n     [3] \u001b[0m\u001b[1m(::CUDAKernels.var\"#8#11\"{CUDAKernels.CudaEvent, Timer, CuDevice, Base.Event})\u001b[22m\u001b[0m\u001b[1m(\u001b[22m\u001b[0m\u001b[1m)\u001b[22m\n    \u001b[90m   @ \u001b[39m\u001b[35mCUDAKernels\u001b[39m \u001b[90m./\u001b[39m\u001b[90m\u001b[4mthreadingconstructs.jl:258\u001b[24m\u001b[39m",
      "",
      "Stacktrace:",
      "  [1] sync_end(c::Channel{Any})",
      "    @ Base ./task.jl:436",
      "  [2] macro expansion",
      "    @ ./task.jl:455 [inlined]",
      "  [3] wait(::CPU, ev::CUDAKernels.CudaEvent, progress::Function)",
      "    @ CUDAKernels /user/.julia/packages/CUDAKernels/YWLqR/src/CUDAKernels.jl:145",
      "  [4] wait (repeats 2 times)",
      "    @ /user/.julia/packages/CUDAKernels/YWLqR/src/CUDAKernels.jl:116 [inlined]",
      "  [5] spline_forward_pullback(x::CuArray{Float32, 2, CUDA.Mem.DeviceBuffer}, w::CuArray{Float64, 3, CUDA.Mem.DeviceBuffer}, h::CuArray{Float64, 3, CUDA.Mem.DeviceBuffer}, d::CuArray{Float32, 3, CUDA.Mem.DeviceBuffer}, w_logJac::CuArray{Float64, 3, CUDA.Mem.DeviceBuffer}, h_logJac::CuArray{Float64, 3, CUDA.Mem.DeviceBuffer}, d_logJac::CuArray{Float32, 3, CUDA.Mem.DeviceBuffer}, tangent_1::CuArray{Float32, 2, CUDA.Mem.DeviceBuffer}, tangent_2::CuArray{Float32, 2, CUDA.Mem.DeviceBuffer})",
      "    @ EuclidianNormalizingFlows ~/ACS/EuclidianNormalizingFlows.jl/src/spline_trafo.jl:121",
      "  [6] (::EuclidianNormalizingFlows.var\"#pullback#66\"{CuArray{Float32, 2, CUDA.Mem.DeviceBuffer}, CuArray{Float64, 3, CUDA.Mem.DeviceBuffer}, CuArray{Float64, 3, CUDA.Mem.DeviceBuffer}, CuArray{Float32, 3, CUDA.Mem.DeviceBuffer}, CuArray{Float64, 3, CUDA.Mem.DeviceBuffer}, CuArray{Float64, 3, CUDA.Mem.DeviceBuffer}, CuArray{Float32, 3, CUDA.Mem.DeviceBuffer}, CUDADevice})(tangent::ChainRulesCore.Tangent{Any, Tuple{CuArray{Float32, 2, CUDA.Mem.DeviceBuffer}, CuArray{Float32, 2, CUDA.Mem.DeviceBuffer}}})",
      "    @ EuclidianNormalizingFlows ~/ACS/EuclidianNormalizingFlows.jl/src/spline_trafo.jl:228",
      "  [7] ZBack",
      "    @ /user/.julia/packages/Zygote/dABKa/src/compiler/chainrules.jl:206 [inlined]",
      "  [8] Pullback",
      "    @ ~/ACS/EuclidianNormalizingFlows.jl/src/spline_trafo.jl:44 [inlined]",
      "  [9] (::typeof(∂(spline_forward)))(Δ::Tuple{CuArray{Float32, 2, CUDA.Mem.DeviceBuffer}, CuArray{Float32, 2, CUDA.Mem.DeviceBuffer}})",
      "    @ Zygote /user/.julia/packages/Zygote/dABKa/src/compiler/interface2.jl:0",
      " [10] Pullback",
      "    @ ~/ACS/EuclidianNormalizingFlows.jl/src/spline_trafo.jl:19 [inlined]",
      " [11] (::typeof(∂(with_logabsdet_jacobian)))(Δ::Tuple{CuArray{Float32, 2, CUDA.Mem.DeviceBuffer}, CuArray{Float32, 2, CUDA.Mem.DeviceBuffer}})",
      "    @ Zygote /user/.julia/packages/Zygote/dABKa/src/compiler/interface2.jl:0",
      " [12] Pullback",
      "    @ ~/ACS/EuclidianNormalizingFlows.jl/src/coupling_rqs.jl:58 [inlined]",
      " [13] (::typeof(∂(rqs_trafo!)))(Δ::Tuple{CuArray{Float32, 2, CUDA.Mem.DeviceBuffer}, CuArray{Float32, 2, CUDA.Mem.DeviceBuffer}})",
      "    @ Zygote /user/.julia/packages/Zygote/dABKa/src/compiler/interface2.jl:0",
      " [14] Pullback",
      "    @ ~/ACS/EuclidianNormalizingFlows.jl/src/coupling_rqs.jl:15 [inlined]",
      " [15] Pullback",
      "    @ ~/ACS/EuclidianNormalizingFlows.jl/src/optimize_whitening.jl:10 [inlined]",
      " [16] (::Zygote.var\"#60#61\"{typeof(∂(mvnormal_negll_trafo))})(Δ::Float32)",
      "    @ Zygote /user/.julia/packages/Zygote/dABKa/src/compiler/interface.jl:45",
      " [17] mvnormal_negll_trafograd(trafo::Function, X::CuArray{Float32, 2, CUDA.Mem.DeviceBuffer})",
      "    @ EuclidianNormalizingFlows ~/ACS/EuclidianNormalizingFlows.jl/src/optimize_whitening.jl:28",
      " [18] optimize_whitening(smpls::ArrayOfSimilarArrays{Float32, 1, 1, 2, CuArray{Float32, 2, CUDA.Mem.DeviceBuffer}}, initial_trafo::Function, optimizer::Optimisers.Adam{Float32}; nbatches::Int64, nepochs::Int64, optstate::NamedTuple{(:nn, :mask), Tuple{NamedTuple{(:layers,), Tuple{Tuple{NamedTuple{(:weight, :bias, :σ), Tuple{Optimisers.Leaf{Optimisers.Adam{Float32}, Tuple{CuArray{Float32, 2, CUDA.Mem.DeviceBuffer}, CuArray{Float32, 2, CUDA.Mem.DeviceBuffer}, Tuple{Float32, Float32}}}, Optimisers.Leaf{Optimisers.Adam{Float32}, Tuple{CuArray{Float32, 1, CUDA.Mem.DeviceBuffer}, CuArray{Float32, 1, CUDA.Mem.DeviceBuffer}, Tuple{Float32, Float32}}}, Nothing}}, NamedTuple{(:weight, :bias, :σ), Tuple{Optimisers.Leaf{Optimisers.Adam{Float32}, Tuple{CuArray{Float32, 2, CUDA.Mem.DeviceBuffer}, CuArray{Float32, 2, CUDA.Mem.DeviceBuffer}, Tuple{Float32, Float32}}}, Optimisers.Leaf{Optimisers.Adam{Float32}, Tuple{CuArray{Float32, 1, CUDA.Mem.DeviceBuffer}, CuArray{Float32, 1, CUDA.Mem.DeviceBuffer}, Tuple{Float32, Float32}}}, Nothing}}, NamedTuple{(:weight, :bias, :σ), Tuple{Optimisers.Leaf{Optimisers.Adam{Float32}, Tuple{CuArray{Float32, 2, CUDA.Mem.DeviceBuffer}, CuArray{Float32, 2, CUDA.Mem.DeviceBuffer}, Tuple{Float32, Float32}}}, Optimisers.Leaf{Optimisers.Adam{Float32}, Tuple{CuArray{Float32, 1, CUDA.Mem.DeviceBuffer}, CuArray{Float32, 1, CUDA.Mem.DeviceBuffer}, Tuple{Float32, Float32}}}, Nothing}}}}}, Nothing}}, negll_history::Vector{Float64}, shuffle_samples::Bool)",
      "    @ EuclidianNormalizingFlows ~/ACS/EuclidianNormalizingFlows.jl/src/optimize_whitening.jl:59",
      " [19] macro expansion",
      "    @ ./In[4]:18 [inlined]",
      " [20] top-level scope",
      "    @ ./timing.jl:262 [inlined]",
      " [21] top-level scope",
      "    @ ./In[4]:0",
      " [22] eval",
      "    @ ./boot.jl:368 [inlined]",
      " [23] include_string(mapexpr::typeof(REPL.softscope), mod::Module, code::String, filename::String)",
      "    @ Base ./loading.jl:1428"
     ]
    }
   ],
   "source": [
    "nbatches = 10\n",
    "nepochs = 100\n",
    "K = 40\n",
    "\n",
    "blocks = get_flow_musketeer_dt(n_dims,_device,K)\n",
    "lr = fill(3f-3, length(blocks.fs))\n",
    "trained_blocks = Function[AdaptiveScaleShift()]\n",
    "hists = Vector[]\n",
    "\n",
    "smpls_train = samples_nested;\n",
    "\n",
    "@time begin\n",
    "    smpls_train = nestedview(trained_blocks[1](smpls_flat))\n",
    "    \n",
    "    for i in 1:n_dims\n",
    "        println(\"+++ Starting round $i\")\n",
    "        \n",
    "        r = optimize_whitening(smpls_train, \n",
    "            blocks.fs[1+i],\n",
    "            Optimisers.Adam(lr[i]),\n",
    "            nbatches=nbatches,\n",
    "            nepochs=nepochs, \n",
    "            shuffle_samples =false)\n",
    "            \n",
    "        trained_trafo = r.result\n",
    "        push!(trained_blocks, trained_trafo)\n",
    "        push!(hists, r.negll_history)\n",
    "        smpls_train = nestedview(trained_trafo(flatview(smpls_train)))\n",
    "    end\n",
    "end\n",
    "\n",
    "push!(trained_blocks, AdaptiveScaleShift())\n",
    "trained_flow = fchain(trained_blocks)\n",
    "smpls_transformed, ladj_trafo = EuclidianNormalizingFlows.with_logabsdet_jacobian(trained_flow, smpls_flat)\n",
    "\n",
    "smpls_transformed = cpu(smpls_transformed)\n",
    "smpls_flat_cpu = cpu(smpls_flat)\n",
    "\n",
    "integral_ghm, variance_ghm = ghm_integration(smpls_transformed, samples.logd, vec(cpu(ladj_trafo)), importance_density)\n",
    "\n",
    "@show integral_ghm\n",
    "@show variance_ghm\n",
    "\n",
    "@time begin\n",
    "    target_density = BAT.Transformed(convert(BAT.AbstractMeasureOrDensity,d), \n",
    "                                     cpu(trained_flow), \n",
    "                                     BAT.TDLADJCorr()\n",
    "                                    )\n",
    "\n",
    "    target_samples = DensitySampleVector(nestedview(cpu(smpls_transformed)), \n",
    "                                         samples.logd - vec(cpu(ladj_trafo))\n",
    "                                        )\n",
    "\n",
    "    integral_bs = BAT.bridge_sampling_integral(target_density,\n",
    "                                               target_samples, \n",
    "                                               proposal_density,\n",
    "                                               proposal_samples,\n",
    "                                               true)\n",
    "end\n",
    "@show integral_bs\n",
    "\n",
    "fig, ax = plt.subplots(1,2, figsize=(8,4))\n",
    "ax[1].hist2d(smpls_flat_cpu[1,:], smpls_flat_cpu[2,:], [100,100], cmap=\"inferno\")\n",
    "ax[1].set_xlim([minimum(smpls_flat_cpu[1,:]), maximum(smpls_flat_cpu[1,:])])\n",
    "ax[1].set_ylim([minimum(smpls_flat_cpu[2,:]), maximum(smpls_flat_cpu[2,:])])\n",
    "ax[2].hist2d(smpls_transformed[1,:], smpls_transformed[2,:], [100,100], cmap=\"inferno\")\n",
    "ax[2].set_xlim([-3, 3])\n",
    "ax[2].set_ylim([-3, 3])"
   ]
  },
  {
   "cell_type": "code",
   "execution_count": 16,
   "id": "e1ad41f6",
   "metadata": {},
   "outputs": [
    {
     "ename": "LoadError",
     "evalue": "PyError ($(Expr(:escape, :(ccall(#= /user/.julia/packages/PyCall/ygXW2/src/pyfncall.jl:43 =# @pysym(:PyObject_Call), PyPtr, (PyPtr, PyPtr, PyPtr), o, pyargsptr, kw))))) <class 'ValueError'>\nValueError('autodetected range of [nan, nan] is not finite')\n  File \"/opt/anaconda3/lib/python3.9/site-packages/matplotlib/__init__.py\", line 1412, in inner\n    return func(ax, *map(sanitize_sequence, args), **kwargs)\n  File \"/opt/anaconda3/lib/python3.9/site-packages/matplotlib/axes/_axes.py\", line 6976, in hist2d\n    h, xedges, yedges = np.histogram2d(x, y, bins=bins, range=range,\n  File \"<__array_function__ internals>\", line 5, in histogram2d\n  File \"/opt/anaconda3/lib/python3.9/site-packages/numpy/lib/twodim_base.py\", line 751, in histogram2d\n    hist, edges = histogramdd([x, y], bins, range, normed, weights, density)\n  File \"<__array_function__ internals>\", line 5, in histogramdd\n  File \"/opt/anaconda3/lib/python3.9/site-packages/numpy/lib/histograms.py\", line 1050, in histogramdd\n    smin, smax = _get_outer_edges(sample[:,i], range[i])\n  File \"/opt/anaconda3/lib/python3.9/site-packages/numpy/lib/histograms.py\", line 323, in _get_outer_edges\n    raise ValueError(\n",
     "output_type": "error",
     "traceback": [
      "PyError ($(Expr(:escape, :(ccall(#= /user/.julia/packages/PyCall/ygXW2/src/pyfncall.jl:43 =# @pysym(:PyObject_Call), PyPtr, (PyPtr, PyPtr, PyPtr), o, pyargsptr, kw))))) <class 'ValueError'>\nValueError('autodetected range of [nan, nan] is not finite')\n  File \"/opt/anaconda3/lib/python3.9/site-packages/matplotlib/__init__.py\", line 1412, in inner\n    return func(ax, *map(sanitize_sequence, args), **kwargs)\n  File \"/opt/anaconda3/lib/python3.9/site-packages/matplotlib/axes/_axes.py\", line 6976, in hist2d\n    h, xedges, yedges = np.histogram2d(x, y, bins=bins, range=range,\n  File \"<__array_function__ internals>\", line 5, in histogram2d\n  File \"/opt/anaconda3/lib/python3.9/site-packages/numpy/lib/twodim_base.py\", line 751, in histogram2d\n    hist, edges = histogramdd([x, y], bins, range, normed, weights, density)\n  File \"<__array_function__ internals>\", line 5, in histogramdd\n  File \"/opt/anaconda3/lib/python3.9/site-packages/numpy/lib/histograms.py\", line 1050, in histogramdd\n    smin, smax = _get_outer_edges(sample[:,i], range[i])\n  File \"/opt/anaconda3/lib/python3.9/site-packages/numpy/lib/histograms.py\", line 323, in _get_outer_edges\n    raise ValueError(\n",
      "",
      "Stacktrace:",
      "  [1] pyerr_check",
      "    @ /user/.julia/packages/PyCall/ygXW2/src/exception.jl:62 [inlined]",
      "  [2] pyerr_check",
      "    @ /user/.julia/packages/PyCall/ygXW2/src/exception.jl:66 [inlined]",
      "  [3] _handle_error(msg::String)",
      "    @ PyCall /user/.julia/packages/PyCall/ygXW2/src/exception.jl:83",
      "  [4] macro expansion",
      "    @ /user/.julia/packages/PyCall/ygXW2/src/exception.jl:97 [inlined]",
      "  [5] #107",
      "    @ /user/.julia/packages/PyCall/ygXW2/src/pyfncall.jl:43 [inlined]",
      "  [6] disable_sigint",
      "    @ ./c.jl:473 [inlined]",
      "  [7] __pycall!",
      "    @ /user/.julia/packages/PyCall/ygXW2/src/pyfncall.jl:42 [inlined]",
      "  [8] _pycall!(ret::PyCall.PyObject, o::PyCall.PyObject, args::Tuple{Vector{Float32}, Vector{Float32}, Vector{Int64}}, nargs::Int64, kw::PyCall.PyObject)",
      "    @ PyCall /user/.julia/packages/PyCall/ygXW2/src/pyfncall.jl:29",
      "  [9] _pycall!(ret::PyCall.PyObject, o::PyCall.PyObject, args::Tuple{Vector{Float32}, Vector{Float32}, Vector{Int64}}, kwargs::Base.Pairs{Symbol, String, Tuple{Symbol}, NamedTuple{(:cmap,), Tuple{String}}})",
      "    @ PyCall /user/.julia/packages/PyCall/ygXW2/src/pyfncall.jl:11",
      " [10] #_#114",
      "    @ /user/.julia/packages/PyCall/ygXW2/src/pyfncall.jl:86 [inlined]",
      " [11] top-level scope",
      "    @ In[16]:7",
      " [12] eval",
      "    @ ./boot.jl:368 [inlined]",
      " [13] include_string(mapexpr::typeof(REPL.softscope), mod::Module, code::String, filename::String)",
      "    @ Base ./loading.jl:1428"
     ]
    }
   ],
   "source": [
    "smpls_transformed = cpu(trained_blocks[2](smpls_flat))\n",
    "\n",
    "fig, ax = plt.subplots(1,2, figsize=(8,4))\n",
    "ax[1].hist2d(smpls_flat_cpu[1,:], smpls_flat_cpu[2,:], [100,100], cmap=\"inferno\")\n",
    "ax[1].set_xlim([minimum(smpls_flat_cpu[1,:]), maximum(smpls_flat_cpu[1,:])])\n",
    "ax[1].set_ylim([minimum(smpls_flat_cpu[2,:]), maximum(smpls_flat_cpu[2,:])])\n",
    "ax[2].hist2d(smpls_transformed[1,:], smpls_transformed[2,:], [100,100], cmap=\"inferno\")\n",
    "ax[2].set_xlim([-3, 3])\n",
    "ax[2].set_ylim([-3, 3])"
   ]
  },
  {
   "cell_type": "code",
   "execution_count": 20,
   "id": "036b7c96",
   "metadata": {},
   "outputs": [
    {
     "data": {
      "text/plain": [
       "2-element Vector{Bool}:\n",
       " 1\n",
       " 0"
      ]
     },
     "execution_count": 20,
     "metadata": {},
     "output_type": "execute_result"
    }
   ],
   "source": [
    "trained_blocks[2].mask"
   ]
  },
  {
   "cell_type": "code",
   "execution_count": 27,
   "id": "9c78271a",
   "metadata": {},
   "outputs": [
    {
     "data": {
      "text/plain": [
       "2-element Vector{Bool}:\n",
       " 0\n",
       " 1"
      ]
     },
     "execution_count": 27,
     "metadata": {},
     "output_type": "execute_result"
    }
   ],
   "source": [
    "input_mask = [i < t_dim ? trafo.mask[i] : ~trafo.mask[i] for i in 1:length(trafo.mask)]"
   ]
  },
  {
   "cell_type": "code",
   "execution_count": 14,
   "id": "9324148f",
   "metadata": {},
   "outputs": [
    {
     "data": {
      "image/png": "[encoded data removed]",
      "text/plain": [
       "Figure(PyObject <Figure size 800x400 with 1 Axes>)"
      ]
     },
     "metadata": {},
     "output_type": "display_data"
    },
    {
     "data": {
      "image/png": "[encoded data removed]",
      "text/plain": [
       "Figure(PyObject <Figure size 800x400 with 1 Axes>)"
      ]
     },
     "metadata": {},
     "output_type": "display_data"
    }
   ],
   "source": [
    "for i in 1:length(hists)\n",
    "    fig2, ax2 = plt.subplots(1, figsize=(8,4))\n",
    "    ax2.plot(1:length(hists[i]), hists[i])\n",
    "end"
   ]
  },
  {
   "cell_type": "code",
   "execution_count": 13,
   "id": "56547440",
   "metadata": {},
   "outputs": [
    {
     "data": {
      "text/plain": [
       "2×100000 Matrix{Float32}:\n",
       " NaN  NaN  NaN  NaN  NaN  NaN  NaN  NaN  …  NaN  NaN  NaN  NaN  NaN  NaN  NaN\n",
       " NaN  NaN  NaN  NaN  NaN  NaN  NaN  NaN     NaN  NaN  NaN  NaN  NaN  NaN  NaN"
      ]
     },
     "execution_count": 13,
     "metadata": {},
     "output_type": "execute_result"
    }
   ],
   "source": [
    "smpls_transformed"
   ]
  }
 ],
 "metadata": {
  "@webio": {
   "lastCommId": null,
   "lastKernelId": null
  },
  "kernelspec": {
   "display_name": "Julia 1.8.2",
   "language": "julia",
   "name": "julia-1.8"
  },
  "language_info": {
   "file_extension": ".jl",
   "mimetype": "application/julia",
   "name": "julia",
   "version": "1.8.5"
  }
 },
 "nbformat": 4,
 "nbformat_minor": 5
}
